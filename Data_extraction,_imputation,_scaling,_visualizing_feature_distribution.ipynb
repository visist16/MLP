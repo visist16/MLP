{
  "nbformat": 4,
  "nbformat_minor": 0,
  "metadata": {
    "colab": {
      "provenance": [],
      "authorship_tag": "ABX9TyOkeG0h3/bI3otiAsgzw7S4",
      "include_colab_link": true
    },
    "kernelspec": {
      "name": "python3",
      "display_name": "Python 3"
    },
    "language_info": {
      "name": "python"
    }
  },
  "cells": [
    {
      "cell_type": "markdown",
      "metadata": {
        "id": "view-in-github",
        "colab_type": "text"
      },
      "source": [
        "<a href=\"https://colab.research.google.com/github/visist16/MLP/blob/main/Data_extraction%2C_imputation%2C_scaling%2C_visualizing_feature_distribution.ipynb\" target=\"_parent\"><img src=\"https://colab.research.google.com/assets/colab-badge.svg\" alt=\"Open In Colab\"/></a>"
      ]
    },
    {
      "cell_type": "code",
      "execution_count": 3,
      "metadata": {
        "id": "eWpTAfT5UQxo"
      },
      "outputs": [],
      "source": [
        "   import numpy as np\n",
        "   import matplotlib.pyplot as plt\n",
        "   import pandas as pd\n",
        "   import seaborn as sns\n",
        "   sns.set_theme(style=\"whitegrid\")"
      ]
    },
    {
      "cell_type": "markdown",
      "source": [
        "## 1.Feature Extraction"
      ],
      "metadata": {
        "id": "oHhkP0QrXU7j"
      }
    },
    {
      "cell_type": "markdown",
      "source": [
        "# DictVectorizer"
      ],
      "metadata": {
        "id": "7MfLcV7OYewA"
      }
    },
    {
      "cell_type": "code",
      "source": [
        "data = [{'age': 4, 'height':96.0},\n",
        "        {'age': 1, 'height':73.9},\n",
        "        {'age': 3, 'height':88.9},\n",
        "        {'age': 2, 'height':81.6}]"
      ],
      "metadata": {
        "id": "SKk22jAVXS0G"
      },
      "execution_count": 4,
      "outputs": []
    },
    {
      "cell_type": "code",
      "source": [
        "from sklearn.feature_extraction import DictVectorizer\n",
        "dv = DictVectorizer(sparse=False)\n",
        "data_transformed = dv.fit_transform(data)\n",
        "data_transformed\n"
      ],
      "metadata": {
        "colab": {
          "base_uri": "https://localhost:8080/"
        },
        "id": "meYI1ndRX-vb",
        "outputId": "b9dcf2c3-d44c-453e-b005-4f24c7aa3aa2"
      },
      "execution_count": 5,
      "outputs": [
        {
          "output_type": "execute_result",
          "data": {
            "text/plain": [
              "array([[ 4. , 96. ],\n",
              "       [ 1. , 73.9],\n",
              "       [ 3. , 88.9],\n",
              "       [ 2. , 81.6]])"
            ]
          },
          "metadata": {},
          "execution_count": 5
        }
      ]
    },
    {
      "cell_type": "markdown",
      "source": [
        "# Data Imputation"
      ],
      "metadata": {
        "id": "aUo3T-5Yak_3"
      }
    },
    {
      "cell_type": "code",
      "source": [
        "from sklearn.impute import SimpleImputer"
      ],
      "metadata": {
        "id": "tlKhvxv8ZgnO"
      },
      "execution_count": 6,
      "outputs": []
    },
    {
      "cell_type": "markdown",
      "source": [
        "# Data imputation on real world dataset"
      ],
      "metadata": {
        "id": "AAnnwqv6awwM"
      }
    },
    {
      "cell_type": "code",
      "source": [
        "cols = ['age', 'sex', 'cp', 'trestbps', 'chol', 'fbs' , 'restecg', 'exang', 'oldpeak', 'slope', 'ca', 'thal', 'num']\n",
        "heart_data = pd.read_csv('https://archive.ics.uci.edu/ml/machine-learning-databases/heart-disease/processed.cleveland.data')"
      ],
      "metadata": {
        "id": "gzENs68AanYv"
      },
      "execution_count": 8,
      "outputs": []
    },
    {
      "cell_type": "code",
      "source": [
        "heart_data.info()"
      ],
      "metadata": {
        "colab": {
          "base_uri": "https://localhost:8080/"
        },
        "id": "KMPX-PZicjAP",
        "outputId": "c827512d-9ca1-4207-f573-b21ce2536858"
      },
      "execution_count": 9,
      "outputs": [
        {
          "output_type": "stream",
          "name": "stdout",
          "text": [
            "<class 'pandas.core.frame.DataFrame'>\n",
            "RangeIndex: 302 entries, 0 to 301\n",
            "Data columns (total 14 columns):\n",
            " #   Column  Non-Null Count  Dtype  \n",
            "---  ------  --------------  -----  \n",
            " 0   63.0    302 non-null    float64\n",
            " 1   1.0     302 non-null    float64\n",
            " 2   1.0.1   302 non-null    float64\n",
            " 3   145.0   302 non-null    float64\n",
            " 4   233.0   302 non-null    float64\n",
            " 5   1.0.2   302 non-null    float64\n",
            " 6   2.0     302 non-null    float64\n",
            " 7   150.0   302 non-null    float64\n",
            " 8   0.0     302 non-null    float64\n",
            " 9   2.3     302 non-null    float64\n",
            " 10  3.0     302 non-null    float64\n",
            " 11  0.0.1   302 non-null    object \n",
            " 12  6.0     302 non-null    object \n",
            " 13  0       302 non-null    int64  \n",
            "dtypes: float64(11), int64(1), object(2)\n",
            "memory usage: 33.2+ KB\n"
          ]
        }
      ]
    },
    {
      "cell_type": "code",
      "source": [
        "(heart_data.isnull().sum())"
      ],
      "metadata": {
        "colab": {
          "base_uri": "https://localhost:8080/"
        },
        "id": "T7lqeSo6d9T3",
        "outputId": "4da14735-76a9-41d7-9124-b2d473c486c9"
      },
      "execution_count": 13,
      "outputs": [
        {
          "output_type": "execute_result",
          "data": {
            "text/plain": [
              "63.0     0\n",
              "1.0      0\n",
              "1.0.1    0\n",
              "145.0    0\n",
              "233.0    0\n",
              "1.0.2    0\n",
              "2.0      0\n",
              "150.0    0\n",
              "0.0      0\n",
              "2.3      0\n",
              "3.0      0\n",
              "0.0.1    0\n",
              "6.0      0\n",
              "0        0\n",
              "dtype: int64"
            ]
          },
          "metadata": {},
          "execution_count": 13
        }
      ]
    },
    {
      "cell_type": "code",
      "source": [
        "  print(\"Unique values in ca:\", heart_data.ca.unique())\n",
        "  print(\"Unique values in thal':\", heart_data.thal.unique())"
      ],
      "metadata": {
        "colab": {
          "base_uri": "https://localhost:8080/",
          "height": 304
        },
        "id": "2Y3QqTb8dG6C",
        "outputId": "e88e149a-42b1-4354-fff6-ce891db221cd"
      },
      "execution_count": 16,
      "outputs": [
        {
          "output_type": "error",
          "ename": "AttributeError",
          "evalue": "ignored",
          "traceback": [
            "\u001b[0;31m---------------------------------------------------------------------------\u001b[0m",
            "\u001b[0;31mAttributeError\u001b[0m                            Traceback (most recent call last)",
            "\u001b[0;32m<ipython-input-16-fa27ab89dae5>\u001b[0m in \u001b[0;36m<module>\u001b[0;34m\u001b[0m\n\u001b[0;32m----> 1\u001b[0;31m \u001b[0mprint\u001b[0m\u001b[0;34m(\u001b[0m\u001b[0;34m\"Unique values in ca:\"\u001b[0m\u001b[0;34m,\u001b[0m \u001b[0mheart_data\u001b[0m\u001b[0;34m.\u001b[0m\u001b[0mca\u001b[0m\u001b[0;34m.\u001b[0m\u001b[0munique\u001b[0m\u001b[0;34m(\u001b[0m\u001b[0;34m)\u001b[0m\u001b[0;34m)\u001b[0m\u001b[0;34m\u001b[0m\u001b[0;34m\u001b[0m\u001b[0m\n\u001b[0m\u001b[1;32m      2\u001b[0m \u001b[0mprint\u001b[0m\u001b[0;34m(\u001b[0m\u001b[0;34m\"Unique values in thal':\"\u001b[0m\u001b[0;34m,\u001b[0m \u001b[0mheart_data\u001b[0m\u001b[0;34m.\u001b[0m\u001b[0mthal\u001b[0m\u001b[0;34m.\u001b[0m\u001b[0munique\u001b[0m\u001b[0;34m(\u001b[0m\u001b[0;34m)\u001b[0m\u001b[0;34m)\u001b[0m\u001b[0;34m\u001b[0m\u001b[0;34m\u001b[0m\u001b[0m\n",
            "\u001b[0;32m/usr/local/lib/python3.8/dist-packages/pandas/core/generic.py\u001b[0m in \u001b[0;36m__getattr__\u001b[0;34m(self, name)\u001b[0m\n\u001b[1;32m   5485\u001b[0m         ):\n\u001b[1;32m   5486\u001b[0m             \u001b[0;32mreturn\u001b[0m \u001b[0mself\u001b[0m\u001b[0;34m[\u001b[0m\u001b[0mname\u001b[0m\u001b[0;34m]\u001b[0m\u001b[0;34m\u001b[0m\u001b[0;34m\u001b[0m\u001b[0m\n\u001b[0;32m-> 5487\u001b[0;31m         \u001b[0;32mreturn\u001b[0m \u001b[0mobject\u001b[0m\u001b[0;34m.\u001b[0m\u001b[0m__getattribute__\u001b[0m\u001b[0;34m(\u001b[0m\u001b[0mself\u001b[0m\u001b[0;34m,\u001b[0m \u001b[0mname\u001b[0m\u001b[0;34m)\u001b[0m\u001b[0;34m\u001b[0m\u001b[0;34m\u001b[0m\u001b[0m\n\u001b[0m\u001b[1;32m   5488\u001b[0m \u001b[0;34m\u001b[0m\u001b[0m\n\u001b[1;32m   5489\u001b[0m     \u001b[0;32mdef\u001b[0m \u001b[0m__setattr__\u001b[0m\u001b[0;34m(\u001b[0m\u001b[0mself\u001b[0m\u001b[0;34m,\u001b[0m \u001b[0mname\u001b[0m\u001b[0;34m:\u001b[0m \u001b[0mstr\u001b[0m\u001b[0;34m,\u001b[0m \u001b[0mvalue\u001b[0m\u001b[0;34m)\u001b[0m \u001b[0;34m->\u001b[0m \u001b[0;32mNone\u001b[0m\u001b[0;34m:\u001b[0m\u001b[0;34m\u001b[0m\u001b[0;34m\u001b[0m\u001b[0m\n",
            "\u001b[0;31mAttributeError\u001b[0m: 'DataFrame' object has no attribute 'ca'"
          ]
        }
      ]
    },
    {
      "cell_type": "code",
      "source": [],
      "metadata": {
        "id": "rbicN4w-egGI"
      },
      "execution_count": null,
      "outputs": []
    }
  ]
}